{
 "cells": [
  {
   "cell_type": "markdown",
   "id": "bc22b0b0",
   "metadata": {},
   "source": [
    "# Modelos de semántica distribucional\n",
    "\n",
    "Los modelos de semántica distribucional se basan en la hipótesis distribucional que señala que dos palabras son similares si aparecen en contextos similares.\n",
    "\n",
    "Por tanto, representan los términos a partir de observar las coocurrencias de sus contextos y crear así vectores que representen (parte de) el significado de estos términos."
   ]
  },
  {
   "cell_type": "code",
   "execution_count": 1,
   "id": "707bb9c3",
   "metadata": {},
   "outputs": [],
   "source": [
    "from collections import defaultdict, Counter\n",
    "from itertools import chain\n",
    "from sklearn.decomposition import PCA\n",
    "from operator import itemgetter\n",
    "import numpy as np\n",
    "import matplotlib.pyplot as plt\n",
    "from tqdm import tqdm"
   ]
  },
  {
   "cell_type": "markdown",
   "id": "df817901",
   "metadata": {},
   "source": [
    "#### Funciones de indexación"
   ]
  },
  {
   "cell_type": "code",
   "execution_count": 2,
   "id": "eaeb6339",
   "metadata": {},
   "outputs": [],
   "source": [
    "def vocab():\n",
    "    \"\"\"\n",
    "    Genera un vocabulario de términ-índice.\n",
    "    \"\"\"\n",
    "    dict = defaultdict()\n",
    "    dict.default_factory = lambda: len(dict)\n",
    "    return dict\n",
    "\n",
    "def get_ids(sentences, voc):\n",
    "    \"\"\"\n",
    "    Asigna un índice a las palabras en una oración en base a los índices del vocabulario.\n",
    "    \"\"\"\n",
    "    for sent in sentences:\n",
    "        yield [voc[w] for w in sent]"
   ]
  },
  {
   "cell_type": "markdown",
   "id": "2fb42cc8",
   "metadata": {},
   "source": [
    "## Modelo de semántica distribucional\n",
    "\n",
    "Definimos en primer lugar una función que nos permita obtener las coocurrencias a partir de observar una palabra objetivo y los contextos que hemos definido."
   ]
  },
  {
   "cell_type": "code",
   "execution_count": 3,
   "id": "b61ab1c7",
   "metadata": {},
   "outputs": [],
   "source": [
    "def get_contexts(word, contexts):\n",
    "    \"\"\"\n",
    "    Función que obtiene coocurrencias de un término en sus contextos.\n",
    "    \n",
    "    Arguments\n",
    "    ---------\n",
    "    word : str\n",
    "        Término objetivo\n",
    "    contexts : list\n",
    "        Lista de contextos\n",
    "        \n",
    "    Returns\n",
    "    -------\n",
    "    contexts_frec : dict\n",
    "        Dictionario de coocurrencias del término\n",
    "    \"\"\"\n",
    "    #Guarda los contextos\n",
    "    neigs = []\n",
    "    for context in contexts:\n",
    "        #Checa si la palabra está en el contexto\n",
    "        if word in context:\n",
    "            #Si es así, guarda el contexto\n",
    "            neigs.append(context)\n",
    "    #Cuenta las palabras en contextos\n",
    "    contexts_frec = Counter(list(chain(*neigs)))\n",
    "    #Elimina la palabra objetivo\n",
    "    contexts_frec.pop(word,0)\n",
    "    \n",
    "    return contexts_frec"
   ]
  },
  {
   "cell_type": "markdown",
   "id": "02532e44",
   "metadata": {},
   "source": [
    "Describimos ahora una clase que genera el modelo de semántica distribucional:\n",
    "\n",
    "* Se genera una matriz de coocurencias $A$ definida como: $$A = (a_{i,j}) = \\phi(w_i,w_j)$$ donde $\\phi$ es una función de coocurrencias basada en frecuencias o PMI.\n",
    "* Calcula la similitud entre térmonos en base al coseno: $$sim(w_i,w_j) = \\frac{|v_i \\cdot v_j|}{||v_i|| ||v_j||}$$ donde $v_i, v_j$ son los vectores distribucionales de los términos."
   ]
  },
  {
   "cell_type": "code",
   "execution_count": 4,
   "id": "72cb7733",
   "metadata": {},
   "outputs": [],
   "source": [
    "class DSModel():\n",
    "    def __init__(self, func='sppmi', k=1):\n",
    "        \"\"\"\n",
    "        La clase del modelo de semántica distribucional.\n",
    "        \n",
    "        Arguments\n",
    "        ---------\n",
    "        func : str\n",
    "            Indica la función que se utilizará para obtener la matriz: 'pmi', 'ppmi' (positive pmi), \n",
    "            'spmi' (normalized pmi), 'sppmi' (normalized positive pmi)\n",
    "        k = int\n",
    "            Cuando se usa 'spmi' o 'sppmi' se indica el valor k del umbral.\n",
    "        \"\"\"\n",
    "        #Función\n",
    "        self.func = func\n",
    "        #Valor de umbral\n",
    "        self.k = k\n",
    "        #Matriz de vectores\n",
    "        self.A = None\n",
    "        #Matriz normalizada\n",
    "        self.norm_A = None\n",
    "        #vocabulario de términos\n",
    "        self.voc = vocab()\n",
    "        \n",
    "    def fit(self, sentences):\n",
    "        \"\"\"\n",
    "        Función que crea la matriz de dsm a partir de una colección.\n",
    "        \n",
    "        Arguments\n",
    "        ---------\n",
    "        sentences : list\n",
    "            Lista de contextos (por ejemplo sentencias) a partir de los cuales se harán las coocurrencias.\n",
    "        \"\"\"\n",
    "        #Indeza los términos\n",
    "        contexts = list(get_ids(sentences, self.voc))\n",
    "        #obtiene las frecuencias de palabra\n",
    "        frecs = Counter(list(chain(*contexts)))\n",
    "\n",
    "        #Tamaño del vocabulario\n",
    "        n = len(self.voc)\n",
    "        #Crea la matriz\n",
    "        self.A = np.zeros((n,n))\n",
    "        for w1, i in tqdm(self.voc.items()):\n",
    "            #Obntiene frecuencia de contextos de w1\n",
    "            frec_cont = get_contexts(i, contexts)\n",
    "            for j, f in frec_cont.items():\n",
    "                #DSM por frecuencia\n",
    "                if self.func == 'frec':\n",
    "                    weights = f\n",
    "                #DSM por PMI\n",
    "                elif self.func == 'pmi':\n",
    "                    weights = np.log2((f*n)/(frecs[i]*frecs[j]))\n",
    "                #DSM por PMI ponderado\n",
    "                elif self.func == 'spmi':\n",
    "                    weights = np.log2((f*n)/(frecs[i]*frecs[j]))-np.log2(self.k)\n",
    "                #DSM por PMI positivo\n",
    "                elif self.func == 'ppmi':\n",
    "                    weights = max(np.log2((f*n)/(frecs[i]*frecs[j])),0)\n",
    "                #DSM por PMI positivo ponderado\n",
    "                elif self.func == 'sppmi':\n",
    "                    weights = max(np.log2((f*n)/(frecs[i]*frecs[j]))-np.log2(self.k),0)\n",
    "\n",
    "                self.A[i,j] = weights\n",
    "        \n",
    "        #Normaliza la matriz para calculo de similitudes\n",
    "        self.norm_A = (self.A.T/np.array([np.linalg.norm(a) for a in self.A])).T\n",
    "                \n",
    "    def get_vector(self, word):\n",
    "        \"\"\"\n",
    "        Función que devuelve el vector dsm de un término.\n",
    "        \n",
    "        Arguments\n",
    "        ---------\n",
    "        word : str\n",
    "            Término del que se desea obtener el vector.\n",
    "            \n",
    "        Returns\n",
    "        -------\n",
    "            Vector distribucional del término indicado.\n",
    "        \"\"\"\n",
    "        try:\n",
    "            #Regresa el vector correspondiente\n",
    "            return self.A[self.voc[word]]\n",
    "        except:\n",
    "            #Indica si no ha visto la palabra\n",
    "            print('No existe la palabra')\n",
    "            \n",
    "    def similarity(self, word1, word2):\n",
    "        \"\"\"\n",
    "        Calcula la similitud coseno entre dos términos.\n",
    "        \n",
    "        Arguments\n",
    "        ---------\n",
    "        word1, word2 : str\n",
    "            Términos a comparar\n",
    "        \n",
    "        Returns\n",
    "        -------\n",
    "        sim : [0,1]\n",
    "            Valor de la similitud entre ambos términos.\n",
    "        \"\"\"\n",
    "        #Obtiene los vectores de ambos términos\n",
    "        v1, v2 = self.get_vector(word1), self.get_vector(word2)\n",
    "        #Calcula la similitud coseno\n",
    "        sim = np.abs(np.dot(v1,v2))/( np.linalg.norm(v1)*np.linalg.norm(v2) )\n",
    "        \n",
    "        return sim\n",
    "    \n",
    "    def most_similar(self, word, n=10):\n",
    "        \"\"\"\n",
    "        Obtiene los n términos más similares dado un término objetivo.\n",
    "        \n",
    "        Arguments\n",
    "        ---------\n",
    "        word : str\n",
    "            Término objetivo\n",
    "        n : int\n",
    "            Número de términos similares a regresar.\n",
    "        \n",
    "        Returns\n",
    "        -------\n",
    "            Lista de n términos más similares con sus similitudes.\n",
    "        \"\"\"\n",
    "        v = self.get_vector(word)\n",
    "        v_norm = v/np.linalg.norm(v)\n",
    "        sims = np.abs(np.dot(self.norm_A,v_norm))\n",
    "        for w,sim in sorted(zip(self.voc.keys(), sims), key=itemgetter(1), reverse=True)[:n]:\n",
    "            yield w, sim"
   ]
  },
  {
   "cell_type": "markdown",
   "id": "b024f599",
   "metadata": {},
   "source": [
    "## Aplicación del modelo de DSM a un corpus\n",
    "\n",
    "Utilizamos el corpus CESS en español que cuenta con separación en oraciones. De tal forma que aprovechamos las oraciones para que funcionen como contextos del modelo distribucional."
   ]
  },
  {
   "cell_type": "code",
   "execution_count": 5,
   "id": "207fdeb5",
   "metadata": {},
   "outputs": [
    {
     "name": "stdout",
     "output_type": "stream",
     "text": [
      "[['el', 'grupo', 'estatal', 'electricité_de_france', 'edf', 'anunció', 'hoy', 'jueves', 'la', 'compra', 'del', '51_por_ciento', 'de', 'la', 'empresa', 'mexicana', 'electricidad_águila_de_altamira', 'eaa', 'creada', 'por', 'el', 'japonés', 'mitsubishi_corporation', 'para', 'poner_en_marcha', 'una', 'central', 'de', 'gas', 'de', '495', 'megavatios'], ['una', 'portavoz', 'de', 'edf', 'explicó', 'a', 'efe', 'que', 'el', 'proyecto', 'para', 'la', 'construcción', 'de', 'altamira_2', 'al', 'norte', 'de', 'tampico', 'prevé', 'la', 'utilización', 'de', 'gas', 'natural', 'como', 'combustible', 'principal', 'en', 'una', 'central', 'de', 'ciclo', 'combinado', 'que', 'debe', 'empezar', 'a', 'funcionar', 'en', 'mayo_del_2002']]\n"
     ]
    }
   ],
   "source": [
    "#Importa el corpus\n",
    "from nltk.corpus import cess_esp\n",
    "\n",
    "#Obtiene las oraciones del corpus\n",
    "corpus = cess_esp.sents()[:500]\n",
    "\n",
    "#Limpiamos el corpus \n",
    "#Pasando a minúsculas y\n",
    "#eliminando símbolos innecesarios\n",
    "sentences = []\n",
    "for sent in corpus:\n",
    "    clean_sent = [w.lower() for w in sent if w.lower() not in ['.',',',':','*0*','-fpt-','-fpa-','\"','-']]\n",
    "    sentences.append(clean_sent)\n",
    "    \n",
    "print(sentences[:2])"
   ]
  },
  {
   "cell_type": "markdown",
   "id": "2519fe64",
   "metadata": {},
   "source": [
    "Podemos entonces obtener el modelo de DSM a partir del corpus, tomando en cuenta las oraciones como contextos:"
   ]
  },
  {
   "cell_type": "code",
   "execution_count": 6,
   "id": "fe582f7f",
   "metadata": {},
   "outputs": [
    {
     "name": "stderr",
     "output_type": "stream",
     "text": [
      "100%|██████████| 4420/4420 [00:02<00:00, 1671.93it/s]\n"
     ]
    }
   ],
   "source": [
    "#Definimos los parámetros del modelo\n",
    "dsm = DSModel(func='sppmi', k=2)\n",
    "#Creamos la matriz distribucional\n",
    "dsm.fit(sentences)"
   ]
  },
  {
   "cell_type": "code",
   "execution_count": 7,
   "id": "124b27fe",
   "metadata": {},
   "outputs": [
    {
     "data": {
      "text/plain": [
       "(4420, 4420)"
      ]
     },
     "execution_count": 7,
     "metadata": {},
     "output_type": "execute_result"
    }
   ],
   "source": [
    "dsm.A.shape"
   ]
  },
  {
   "cell_type": "code",
   "execution_count": 8,
   "id": "c05b935c",
   "metadata": {},
   "outputs": [
    {
     "data": {
      "text/plain": [
       "array([1.05238038, 0.        , 0.        , ..., 0.        , 0.        ,\n",
       "       0.        ])"
      ]
     },
     "execution_count": 8,
     "metadata": {},
     "output_type": "execute_result"
    }
   ],
   "source": [
    "dsm.get_vector('méxico')"
   ]
  },
  {
   "cell_type": "markdown",
   "id": "8c8fb6df",
   "metadata": {},
   "source": [
    "Con este modelo podemos calcular la similitud entre dos términos:"
   ]
  },
  {
   "cell_type": "code",
   "execution_count": 9,
   "id": "9d38b28d",
   "metadata": {},
   "outputs": [
    {
     "data": {
      "text/plain": [
       "0.03401956584429898"
      ]
     },
     "execution_count": 9,
     "metadata": {},
     "output_type": "execute_result"
    }
   ],
   "source": [
    "dsm.similarity('democracia', 'méxico')"
   ]
  },
  {
   "cell_type": "markdown",
   "id": "631a1a33",
   "metadata": {},
   "source": [
    "Asimismo, podemos obtener los términos que más similitud compartan con un término dado:"
   ]
  },
  {
   "cell_type": "code",
   "execution_count": 10,
   "id": "a3cb78cc",
   "metadata": {},
   "outputs": [
    {
     "name": "stdout",
     "output_type": "stream",
     "text": [
      "méxico 1.0\n",
      "barbados 0.5737728978078362\n",
      "el_salvador 0.5737728978078362\n",
      "haití 0.5737728978078362\n",
      "jamaica 0.5237317193730574\n",
      "honduras 0.4627291868389548\n",
      "pacto_de_san_josé 0.4448002430266236\n",
      "especiales 0.4448002430266236\n",
      "belice 0.4448002430266236\n",
      "nicaragua 0.4448002430266236\n"
     ]
    }
   ],
   "source": [
    "for w, sim in dsm.most_similar('méxico'):\n",
    "    print(w, sim)"
   ]
  },
  {
   "cell_type": "markdown",
   "id": "319d626f",
   "metadata": {},
   "source": [
    "## Reducción de la dimensionalidad\n",
    "\n",
    "Usamos una reducción de la dimensionalidad basado la descomposición en valores singulares. Es decir, tomamos como dimensiones los $k$ eigenvectores con los eigenvalores más altos para representar a los datos."
   ]
  },
  {
   "cell_type": "code",
   "execution_count": 10,
   "id": "36f49fc9",
   "metadata": {},
   "outputs": [],
   "source": [
    "def svd(X, dims=2):\n",
    "    \"\"\"\n",
    "    Función de reducción de dimensionalidad de una matriz.\n",
    "    \n",
    "    Arguments\n",
    "    ---------\n",
    "    X : array\n",
    "        Matriz cuyos renglones se reducirán de dimensión\n",
    "    dims : int\n",
    "        Número de dimensiones finales\n",
    "        \n",
    "    Returns\n",
    "    -------\n",
    "        Vectores renglón de la matriz con dimensión dims y transformación lineal que reduce los vectores\n",
    "    \"\"\"\n",
    "    #dimensiones de matriz original\n",
    "    m,n = X.shape\n",
    "    if m != n:\n",
    "        X = np.dot(X.T,X)\n",
    "    #Calcula la media\n",
    "    mu = X.sum(0)/n\n",
    "    #Normalización de los vectores\n",
    "    X_norm = X-mu\n",
    "    #SVD\n",
    "    U, S, V = np.linalg.svd(X_norm, full_matrices=False)\n",
    "    #vectores reducidos\n",
    "    red_X = U[:, :dims]\n",
    "    #Transformación\n",
    "    T = V[:dims]\n",
    "    \n",
    "    return red_X, T"
   ]
  },
  {
   "cell_type": "code",
   "execution_count": 11,
   "id": "2d3f6f6e",
   "metadata": {},
   "outputs": [],
   "source": [
    "red_A,T = svd(dsm.A)"
   ]
  },
  {
   "cell_type": "code",
   "execution_count": 12,
   "id": "c99ba44e",
   "metadata": {},
   "outputs": [],
   "source": [
    "#Función para visualizar los embeddings\n",
    "#Usa reducción de la dimensionalidad por PCA\n",
    "def plot_words(Z,ids):\n",
    "    r=0\n",
    "    plt.scatter(Z[:,0],Z[:,1], marker='o', c='blue')\n",
    "    for label,x,y in zip(ids, Z[:,0], Z[:,1]):\n",
    "        plt.annotate(label, xy=(x,y), xytext=(-1,1), textcoords='offset points', ha='center', va='bottom')\n",
    "        r+=1\n",
    "    plt.show()"
   ]
  },
  {
   "cell_type": "code",
   "execution_count": 13,
   "id": "4e854063",
   "metadata": {},
   "outputs": [
    {
     "data": {
      "image/png": "[encoded data removed]",
      "text/plain": [
       "<Figure size 432x288 with 1 Axes>"
      ]
     },
     "metadata": {
      "needs_background": "light"
     },
     "output_type": "display_data"
    }
   ],
   "source": [
    "A = red_A[:100]\n",
    "plot_words(A, list(dsm.voc.keys())[:100])"
   ]
  },
  {
   "cell_type": "markdown",
   "id": "86456b79",
   "metadata": {},
   "source": [
    "## Composicionalidad"
   ]
  },
  {
   "cell_type": "code",
   "execution_count": 11,
   "id": "517e991d",
   "metadata": {},
   "outputs": [],
   "source": [
    "def composition(w1,w2,method='sum'):\n",
    "    v1, v2 = dsm.get_vector(w1), dsm.get_vector(w2)\n",
    "    \n",
    "    if method == 'sum':\n",
    "        return v1 + v2\n",
    "    elif method == 'product':\n",
    "        return v1*v2\n",
    "    elif method == 'avg':\n",
    "        return (v1+v2)/2"
   ]
  },
  {
   "cell_type": "code",
   "execution_count": 18,
   "id": "9e25dd42",
   "metadata": {},
   "outputs": [
    {
     "data": {
      "text/plain": [
       "0.8093097141288504"
      ]
     },
     "execution_count": 18,
     "metadata": {},
     "output_type": "execute_result"
    }
   ],
   "source": [
    "sim = lambda x,y: np.abs(np.dot(x,y))/(np.linalg.norm(x)*np.linalg.norm(y))\n",
    "\n",
    "sim(composition('democracia','méxico', method='sum'),composition('democracia','barbados', method='sum'))"
   ]
  },
  {
   "cell_type": "code",
   "execution_count": null,
   "id": "13530235",
   "metadata": {},
   "outputs": [],
   "source": []
  }
 ],
 "metadata": {
  "kernelspec": {
   "display_name": "Python 3",
   "language": "python",
   "name": "python3"
  },
  "language_info": {
   "codemirror_mode": {
    "name": "ipython",
    "version": 3
   },
   "file_extension": ".py",
   "mimetype": "text/x-python",
   "name": "python",
   "nbconvert_exporter": "python",
   "pygments_lexer": "ipython3",
   "version": "3.8.8"
  }
 },
 "nbformat": 4,
 "nbformat_minor": 5
}
