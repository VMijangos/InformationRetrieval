{
 "cells": [
  {
   "cell_type": "markdown",
   "id": "ca05aeb6",
   "metadata": {},
   "source": [
    "# Recuperación de información con modelo neuronal\n",
    "\n",
    "Con base en el modelo del espacio vectoria, la recuperación de información puede representar los documentos y los términos como vectores. Estos vectores pueden aprenderse por medio de redes neuronales, en lo que se conoce como <b>embeddings</b>.\n",
    "\n",
    "Presentamos una forma de representar estos documentos y términos para un modelo de RI con base en el aprendizaje de embeddings a partir de una red FeedForward."
   ]
  },
  {
   "cell_type": "code",
   "execution_count": 1,
   "id": "31f63758",
   "metadata": {},
   "outputs": [],
   "source": [
    "import nltk\n",
    "from nltk import word_tokenize\n",
    "from nltk.corpus import stopwords\n",
    "from nltk.corpus import brown\n",
    "from nltk.stem import SnowballStemmer\n",
    "from collections import defaultdict, Counter\n",
    "from itertools import chain\n",
    "from pickle import dump, load\n",
    "from operator import itemgetter\n",
    "import matplotlib.pyplot as plt\n",
    "import pandas as pd\n",
    "import numpy as np"
   ]
  },
  {
   "cell_type": "markdown",
   "id": "0b25ae94",
   "metadata": {},
   "source": [
    "### Preparación del dataset\n",
    "\n",
    "Utilizamos el corpus Brown, que obtenemos a aprtir de NLTK. De este corpus obtenemos los documentos y los términos que componen a cada documentos."
   ]
  },
  {
   "cell_type": "code",
   "execution_count": 2,
   "id": "1ec27d0f",
   "metadata": {},
   "outputs": [],
   "source": [
    "#Stopwords\n",
    "paro = stopwords.words('english')\n",
    "#Documentos de los tópicos considerados\n",
    "ids = brown.fileids(categories=['romance', 'religion']) #, 'reviews','romance','news'])\n",
    "#Stemmer\n",
    "stemmer = SnowballStemmer('english')"
   ]
  },
  {
   "cell_type": "code",
   "execution_count": 3,
   "id": "9b6cc094",
   "metadata": {},
   "outputs": [
    {
     "name": "stdout",
     "output_type": "stream",
     "text": [
      "dict_keys(['cd01', 'cd02', 'cd03', 'cd04', 'cd05', 'cd06', 'cd07', 'cd08', 'cd09', 'cd10', 'cd11', 'cd12', 'cd13', 'cd14', 'cd15', 'cd16', 'cd17', 'cp01', 'cp02', 'cp03', 'cp04', 'cp05', 'cp06', 'cp07', 'cp08', 'cp09', 'cp10', 'cp11', 'cp12', 'cp13', 'cp14', 'cp15', 'cp16', 'cp17', 'cp18', 'cp19', 'cp20', 'cp21', 'cp22', 'cp23', 'cp24', 'cp25', 'cp26', 'cp27', 'cp28', 'cp29'])\n"
     ]
    }
   ],
   "source": [
    "#Guarda las palabras\n",
    "BagOfWords = defaultdict(list)\n",
    "for i in ids:\n",
    "    #Genera las palabras de cada documento\n",
    "    words = brown.words(i)\n",
    "    for w in words:\n",
    "        #Aplica stopwords\n",
    "        if w in paro or w.isalpha() == False:\n",
    "            pass\n",
    "        else:\n",
    "            #Aplica stemmer y guarda\n",
    "            BagOfWords[i].append(stemmer.stem(w))\n",
    "\n",
    "print(BagOfWords.keys())"
   ]
  },
  {
   "cell_type": "code",
   "execution_count": 4,
   "id": "ac5d3a5e",
   "metadata": {},
   "outputs": [
    {
     "name": "stdout",
     "output_type": "stream",
     "text": [
      "Documento: cd01 \tNúm palabras: 991\n",
      "Documento: cd02 \tNúm palabras: 990\n",
      "Documento: cd03 \tNúm palabras: 1130\n",
      "Documento: cd04 \tNúm palabras: 996\n",
      "Documento: cd05 \tNúm palabras: 1068\n",
      "Documento: cd06 \tNúm palabras: 1053\n",
      "Documento: cd07 \tNúm palabras: 1037\n",
      "Documento: cd08 \tNúm palabras: 1048\n",
      "Documento: cd09 \tNúm palabras: 1182\n",
      "Documento: cd10 \tNúm palabras: 1079\n",
      "Documento: cd11 \tNúm palabras: 1021\n",
      "Documento: cd12 \tNúm palabras: 1105\n",
      "Documento: cd13 \tNúm palabras: 1036\n",
      "Documento: cd14 \tNúm palabras: 1111\n",
      "Documento: cd15 \tNúm palabras: 1159\n",
      "Documento: cd16 \tNúm palabras: 1029\n",
      "Documento: cd17 \tNúm palabras: 1113\n",
      "Documento: cp01 \tNúm palabras: 1076\n",
      "Documento: cp02 \tNúm palabras: 1036\n",
      "Documento: cp03 \tNúm palabras: 1038\n",
      "Documento: cp04 \tNúm palabras: 1140\n",
      "Documento: cp05 \tNúm palabras: 1040\n",
      "Documento: cp06 \tNúm palabras: 1101\n",
      "Documento: cp07 \tNúm palabras: 1054\n",
      "Documento: cp08 \tNúm palabras: 1081\n",
      "Documento: cp09 \tNúm palabras: 909\n",
      "Documento: cp10 \tNúm palabras: 1063\n",
      "Documento: cp11 \tNúm palabras: 1001\n",
      "Documento: cp12 \tNúm palabras: 1027\n",
      "Documento: cp13 \tNúm palabras: 1090\n",
      "Documento: cp14 \tNúm palabras: 1097\n",
      "Documento: cp15 \tNúm palabras: 1074\n",
      "Documento: cp16 \tNúm palabras: 1141\n",
      "Documento: cp17 \tNúm palabras: 1046\n",
      "Documento: cp18 \tNúm palabras: 1082\n",
      "Documento: cp19 \tNúm palabras: 1023\n",
      "Documento: cp20 \tNúm palabras: 1112\n",
      "Documento: cp21 \tNúm palabras: 1139\n",
      "Documento: cp22 \tNúm palabras: 1074\n",
      "Documento: cp23 \tNúm palabras: 1117\n",
      "Documento: cp24 \tNúm palabras: 1150\n",
      "Documento: cp25 \tNúm palabras: 1004\n",
      "Documento: cp26 \tNúm palabras: 1030\n",
      "Documento: cp27 \tNúm palabras: 1113\n",
      "Documento: cp28 \tNúm palabras: 1089\n",
      "Documento: cp29 \tNúm palabras: 1099\n"
     ]
    }
   ],
   "source": [
    "for i, words in BagOfWords.items():\n",
    "    print(\"Documento: {} \\tNúm palabras: {}\".format(i, len(words)))"
   ]
  },
  {
   "cell_type": "markdown",
   "id": "47586f2c",
   "metadata": {},
   "source": [
    "Para entrenar la red neuronal y general las representaciones vectoriales generamos pares de entrenamiento, estos pares son de la forma:\n",
    "\n",
    "$$(d_i, t_j)$$\n",
    "\n",
    "Es decir, el documento será la entrada de la red y el término la salida. Por lo que se tendrá que estimar una probabilidad de la forma $p(t_j|d_i)$.\n",
    "\n",
    "Al estimar esta probabilidad el método aprenderá las representaciones vectoriales tanto de los documentos como de los términos."
   ]
  },
  {
   "cell_type": "code",
   "execution_count": 5,
   "id": "67b2fdc7",
   "metadata": {},
   "outputs": [],
   "source": [
    "#Frecuencia de términos\n",
    "freqs = Counter(list(chain(*BagOfWords.values())))\n",
    "#Índices para términos\n",
    "idx = {w:k for k,w in enumerate(freqs.keys())}\n",
    "#Índices para documentos\n",
    "docs = {d:l for l,d in enumerate(BagOfWords.keys())}"
   ]
  },
  {
   "cell_type": "code",
   "execution_count": 6,
   "id": "1c915c96",
   "metadata": {},
   "outputs": [
    {
     "name": "stdout",
     "output_type": "stream",
     "text": [
      "49194\n",
      "[(0, 0), (0, 1), (0, 2), (0, 3), (0, 4), (0, 5), (0, 6), (0, 7), (0, 8), (0, 9)]\n"
     ]
    }
   ],
   "source": [
    "#Guarda pares de entrenamiento\n",
    "pairs = []\n",
    "for doc, words  in BagOfWords.items():\n",
    "    #Genera los pares (d_i, w_j)\n",
    "    pairs.append([(docs[doc], idx[wk]) for wk in words])\n",
    "    \n",
    "pairs = list(chain(*pairs))\n",
    "print(len(pairs))\n",
    "print(pairs[:10])"
   ]
  },
  {
   "cell_type": "markdown",
   "id": "0bc61842",
   "metadata": {},
   "source": [
    "### Red neuronal\n",
    "\n",
    "La red neuronal es una red FeedForward que toma como entrada los documentos y obtiene como salida las probabilidades de los términos dado los documentos. \n",
    "\n",
    "La red toma solamente dos capas: 1) la capa en que se aprenden las representaciones de los documentos; y 2) la capa de salida que aprende las representaciones de los términos. Estas capas son completamente lineales y no tienen bias ni función de activación. \n",
    "\n",
    "De tal forma que, si $u_i$ es el vector del documento $d_i$ que entra y $w_j$ es el vector del término $t_j$, entonces la probabilidad de salida se estima como:\n",
    "\n",
    "$$p(t_j|d_i) = \\frac{exp\\{u_i \\cdot w_j\\}}{\\sum_k exp\\{u_i \\cdot w_k\\}}$$"
   ]
  },
  {
   "cell_type": "code",
   "execution_count": 17,
   "id": "8978be96",
   "metadata": {},
   "outputs": [
    {
     "name": "stdout",
     "output_type": "stream",
     "text": [
      "(2, 46)\n",
      "(6961, 2)\n"
     ]
    }
   ],
   "source": [
    "np.random.seed(0)\n",
    "#El número de rasgos que representan cada vector\n",
    "input_dim = len(docs)\n",
    "#El total de clases que arrojará\n",
    "output_dim = len(idx)\n",
    "#El número de ejmplos\n",
    "#num_examples = len(bigrams)\n",
    "\n",
    "#Dimensiones de los vectores-palabra\n",
    "dim = 2\n",
    "\n",
    "#Embedding\n",
    "U = np.random.randn(dim, input_dim) / np.sqrt(input_dim)\n",
    "\n",
    "#Capa de salida\n",
    "W = np.random.randn(output_dim,dim) / np.sqrt(dim)\n",
    "\n",
    "print(U.shape)\n",
    "print(W.shape)"
   ]
  },
  {
   "cell_type": "markdown",
   "id": "f5319b32",
   "metadata": {},
   "source": [
    "Para entrenar la red usamos retropropagación y gradiente descendiente estocástico. La función de riesgo es la entropía cruzada."
   ]
  },
  {
   "cell_type": "code",
   "execution_count": 8,
   "id": "993534d8",
   "metadata": {},
   "outputs": [
    {
     "name": "stdout",
     "output_type": "stream",
     "text": [
      "Fin de la iteración 0 entropía 402450.8194443338\n",
      "Fin de la iteración 1 entropía 380495.7191362397\n",
      "Fin de la iteración 2 entropía 376516.3056647496\n",
      "Fin de la iteración 3 entropía 373615.93680705724\n",
      "Fin de la iteración 4 entropía 371126.8317958111\n",
      "Fin de la iteración 5 entropía 369532.5353079679\n",
      "Fin de la iteración 6 entropía 368566.5247294065\n",
      "Fin de la iteración 7 entropía 367936.8934264946\n",
      "Fin de la iteración 8 entropía 367497.8469726899\n",
      "Fin de la iteración 9 entropía 367176.8891816671\n",
      "Fin de la iteración 10 entropía 366933.7669659583\n",
      "Fin de la iteración 11 entropía 366744.03249862127\n",
      "Fin de la iteración 12 entropía 366592.18409935053\n",
      "Fin de la iteración 13 entropía 366468.08582301694\n",
      "Fin de la iteración 14 entropía 366364.87531686143\n",
      "Fin de la iteración 15 entropía 366277.7489112969\n",
      "Fin de la iteración 16 entropía 366203.2451181616\n",
      "Fin de la iteración 17 entropía 366138.8090923645\n",
      "Fin de la iteración 18 entropía 366082.51901058375\n",
      "Fin de la iteración 19 entropía 366032.9068167674\n",
      "CPU times: user 2h 6min 12s, sys: 2h 14min 29s, total: 4h 20min 41s\n",
      "Wall time: 23min 57s\n"
     ]
    }
   ],
   "source": [
    "%%time\n",
    "\n",
    "entropy = []\n",
    "its = 20\n",
    "eta = 0.1\n",
    "for i in range(0,its):\n",
    "    H = 0.0\n",
    "    for ex in pairs:\n",
    "        #Forward\n",
    "        #Embedimiento\n",
    "        u_w = U.T[ex[0]]\n",
    "        #salida\n",
    "        a = np.dot(W,u_w)\n",
    "        out = np.exp(a - np.max(a))\n",
    "        #Softmax\n",
    "        f = out/out.sum(0)\n",
    "        H1 = np.log(f)[ex[1]]\n",
    "        H -= H1\n",
    "\n",
    "        #Backprop\n",
    "        #Variable de salida\n",
    "        d_out = f\n",
    "        d_out[ex[1]] -= 1\n",
    "        \n",
    "        #Variable de embedding\n",
    "        d_emb = np.dot(d_out,W)\n",
    "        \n",
    "        #Actualizacion de salida\n",
    "        W -= eta*np.outer(d_out,u_w)\n",
    "\n",
    "        #Actualizacion de embedding\n",
    "        U.T[ex[0]] -= eta*d_emb\n",
    "\n",
    "        #Entropia cruzada\n",
    "        k = int(ex[1])\n",
    "\n",
    "    entropy.append(H)   \n",
    "    print('Fin de la iteración',i, 'entropía', H)"
   ]
  },
  {
   "cell_type": "code",
   "execution_count": 9,
   "id": "53ea3d1c",
   "metadata": {},
   "outputs": [
    {
     "data": {
      "image/png": "[encoded data removed]",
      "text/plain": [
       "<Figure size 432x288 with 1 Axes>"
      ]
     },
     "metadata": {
      "needs_background": "light"
     },
     "output_type": "display_data"
    }
   ],
   "source": [
    "plt.plot(entropy, 'v-')\n",
    "plt.xlabel('Iteración')\n",
    "plt.ylabel('Entropía')\n",
    "plt.title('Minimización de entropía cruzada')\n",
    "plt.show()"
   ]
  },
  {
   "cell_type": "markdown",
   "id": "41b87295",
   "metadata": {},
   "source": [
    "### Resultados de la red\n",
    "\n",
    "Finalmente tenemos un modelo entrenado que podemos visualizar y con el que podemos trabajar; esto es, realizar consultas. Podemos ver como trabaja este modelo."
   ]
  },
  {
   "cell_type": "code",
   "execution_count": 12,
   "id": "ba61dac7",
   "metadata": {},
   "outputs": [],
   "source": [
    "#Guarda el modelo aprendido\n",
    "#fname = open('NeuralModel.p','wb')\n",
    "#dump((Docs, Terms, docs, idx), fname)\n",
    "#fname.close()"
   ]
  },
  {
   "cell_type": "code",
   "execution_count": 13,
   "id": "6ebbebdd",
   "metadata": {},
   "outputs": [],
   "source": [
    "#Carga el modelo guardado\n",
    "fname = open('NeuralModel.p','rb')\n",
    "Docs, Terms, docs, idx = load(fname)\n",
    "fname.close()"
   ]
  },
  {
   "cell_type": "markdown",
   "id": "901d5813",
   "metadata": {},
   "source": [
    "En primer lugar, podemos visualizar los embeddings aprendidos para ver cómo se comporta el espacio vectorial."
   ]
  },
  {
   "cell_type": "code",
   "execution_count": 18,
   "id": "906756d4",
   "metadata": {},
   "outputs": [],
   "source": [
    "#Funcion para plotear los datos con labels\n",
    "def plot_words(Z,ids,color='blue'):\n",
    "    #Reduce la dimensionalidad a 2\n",
    "    #Z = PCA(2).fit_transform(Z)\n",
    "    \n",
    "    #Plotea con la marcas (marker) y el color indicado (c)\n",
    "    r=0\n",
    "    plt.scatter(Z[:,0],Z[:,1], marker='o', c=color)\n",
    "    for label,x,y in zip(ids, Z[:,0], Z[:,1]):\n",
    "        plt.annotate(label, xy=(x,y), xytext=(-1,1), textcoords='offset points', ha='center', va='bottom')\n",
    "        r+=1"
   ]
  },
  {
   "cell_type": "code",
   "execution_count": 19,
   "id": "e13e1888",
   "metadata": {},
   "outputs": [
    {
     "data": {
      "image/png": "[encoded data removed]",
      "text/plain": [
       "<Figure size 432x288 with 1 Axes>"
      ]
     },
     "metadata": {
      "needs_background": "light"
     },
     "output_type": "display_data"
    }
   ],
   "source": [
    "#Ordena las etiquetas para que coincidan con los vectores-renglón de la matriz de embedding\n",
    "label = [brown.categories(w[0])[0] for w in sorted(docs.items(), key=itemgetter(1))]\n",
    "\n",
    "plot_words(Docs,label,color=[1*(l=='religion') for l in label])\n",
    "plt.show()"
   ]
  },
  {
   "cell_type": "markdown",
   "id": "3819c299",
   "metadata": {},
   "source": [
    "También podemos ver los contenidos de los vectores según su tópico."
   ]
  },
  {
   "cell_type": "code",
   "execution_count": 20,
   "id": "5fb30aa9",
   "metadata": {},
   "outputs": [
    {
     "data": {
      "text/html": [
       "<div>\n",
       "<style scoped>\n",
       "    .dataframe tbody tr th:only-of-type {\n",
       "        vertical-align: middle;\n",
       "    }\n",
       "\n",
       "    .dataframe tbody tr th {\n",
       "        vertical-align: top;\n",
       "    }\n",
       "\n",
       "    .dataframe thead th {\n",
       "        text-align: right;\n",
       "    }\n",
       "</style>\n",
       "<table border=\"1\" class=\"dataframe\">\n",
       "  <thead>\n",
       "    <tr style=\"text-align: right;\">\n",
       "      <th></th>\n",
       "      <th>religion</th>\n",
       "      <th>religion</th>\n",
       "      <th>religion</th>\n",
       "      <th>religion</th>\n",
       "      <th>religion</th>\n",
       "      <th>religion</th>\n",
       "      <th>religion</th>\n",
       "      <th>religion</th>\n",
       "      <th>religion</th>\n",
       "      <th>religion</th>\n",
       "      <th>...</th>\n",
       "      <th>romance</th>\n",
       "      <th>romance</th>\n",
       "      <th>romance</th>\n",
       "      <th>romance</th>\n",
       "      <th>romance</th>\n",
       "      <th>romance</th>\n",
       "      <th>romance</th>\n",
       "      <th>romance</th>\n",
       "      <th>romance</th>\n",
       "      <th>romance</th>\n",
       "    </tr>\n",
       "  </thead>\n",
       "  <tbody>\n",
       "    <tr>\n",
       "      <th>X</th>\n",
       "      <td>-1.666211</td>\n",
       "      <td>-1.348313</td>\n",
       "      <td>-1.238009</td>\n",
       "      <td>-1.583626</td>\n",
       "      <td>-1.198853</td>\n",
       "      <td>-2.389104</td>\n",
       "      <td>-1.478740</td>\n",
       "      <td>-1.096978</td>\n",
       "      <td>-1.593371</td>\n",
       "      <td>-1.168524</td>\n",
       "      <td>...</td>\n",
       "      <td>-1.439589</td>\n",
       "      <td>-1.082678</td>\n",
       "      <td>-1.526704</td>\n",
       "      <td>-0.548831</td>\n",
       "      <td>-1.722854</td>\n",
       "      <td>-1.226751</td>\n",
       "      <td>-1.395250</td>\n",
       "      <td>-1.339090</td>\n",
       "      <td>-1.282947</td>\n",
       "      <td>-1.064352</td>\n",
       "    </tr>\n",
       "    <tr>\n",
       "      <th>Y</th>\n",
       "      <td>0.937589</td>\n",
       "      <td>1.805673</td>\n",
       "      <td>2.001844</td>\n",
       "      <td>2.126461</td>\n",
       "      <td>0.705419</td>\n",
       "      <td>1.456108</td>\n",
       "      <td>0.644995</td>\n",
       "      <td>1.602612</td>\n",
       "      <td>1.754179</td>\n",
       "      <td>1.617647</td>\n",
       "      <td>...</td>\n",
       "      <td>-1.317446</td>\n",
       "      <td>-0.845847</td>\n",
       "      <td>-0.992333</td>\n",
       "      <td>-1.345761</td>\n",
       "      <td>-2.192895</td>\n",
       "      <td>-0.007463</td>\n",
       "      <td>-1.567472</td>\n",
       "      <td>-0.496672</td>\n",
       "      <td>-0.681054</td>\n",
       "      <td>-0.619128</td>\n",
       "    </tr>\n",
       "  </tbody>\n",
       "</table>\n",
       "<p>2 rows × 46 columns</p>\n",
       "</div>"
      ],
      "text/plain": [
       "   religion  religion  religion  religion  religion  religion  religion  \\\n",
       "X -1.666211 -1.348313 -1.238009 -1.583626 -1.198853 -2.389104 -1.478740   \n",
       "Y  0.937589  1.805673  2.001844  2.126461  0.705419  1.456108  0.644995   \n",
       "\n",
       "   religion  religion  religion  ...   romance   romance   romance   romance  \\\n",
       "X -1.096978 -1.593371 -1.168524  ... -1.439589 -1.082678 -1.526704 -0.548831   \n",
       "Y  1.602612  1.754179  1.617647  ... -1.317446 -0.845847 -0.992333 -1.345761   \n",
       "\n",
       "    romance   romance   romance   romance   romance   romance  \n",
       "X -1.722854 -1.226751 -1.395250 -1.339090 -1.282947 -1.064352  \n",
       "Y -2.192895 -0.007463 -1.567472 -0.496672 -0.681054 -0.619128  \n",
       "\n",
       "[2 rows x 46 columns]"
      ]
     },
     "execution_count": 20,
     "metadata": {},
     "output_type": "execute_result"
    }
   ],
   "source": [
    "#Ver los contenidos\n",
    "cod = pd.DataFrame(data=Docs, index=label, columns=['X','Y'])\n",
    "cod.T"
   ]
  },
  {
   "cell_type": "markdown",
   "id": "71b9b73e",
   "metadata": {},
   "source": [
    "Asimismo, podemos visualizar los términos o consultas dentro del espacio vectorial."
   ]
  },
  {
   "cell_type": "code",
   "execution_count": 21,
   "id": "70951083",
   "metadata": {},
   "outputs": [
    {
     "data": {
      "image/png": "[encoded data removed]",
      "text/plain": [
       "<Figure size 432x288 with 1 Axes>"
      ]
     },
     "metadata": {
      "needs_background": "light"
     },
     "output_type": "display_data"
    }
   ],
   "source": [
    "query = Terms[ [idx['spirit'], idx['god'], idx['romanc'], idx['dilemma']] ] \n",
    "plot_words(query,['spirit','god', 'romanc', 'dilemma'],color='r')\n",
    "plot_words(Docs,label,color=[1*(l=='religion') for l in label])\n",
    "plt.show()"
   ]
  },
  {
   "cell_type": "markdown",
   "id": "3696e712",
   "metadata": {},
   "source": [
    "Finalmente, podemos usar alguna medida de similitud para estimar la cercanía de una query al connjunto de documentos. De esta forma, podremos realizar consultas con este modelo:"
   ]
  },
  {
   "cell_type": "code",
   "execution_count": 22,
   "id": "21221661",
   "metadata": {},
   "outputs": [],
   "source": [
    "def sim(query, doc, metric='euc', p=2):\n",
    "    t_vec = np.array([Terms[idx[w]] for w in query]).sum(0)\n",
    "    #print(t_vec)\n",
    "    d_vec = Docs[docs[doc]]\n",
    "    \n",
    "    if metric == 'euc':\n",
    "        return 1/np.linalg.norm(t_vec-d_vec)\n",
    "    if metric == 'cos':\n",
    "        return np.abs( np.dot(t_vec,d_vec) )/( np.linalg.norm(t_vec)*np.linalg.norm(d_vec) ) \n",
    "    if metric == 'NOT':\n",
    "        s = (t_vec**p)@(d_vec**p)/(t_vec**p).sum()\n",
    "        return 1-s**(1/p)\n",
    "    elif metric == 'AND':\n",
    "        s = (t_vec**p)@(1-d_vec**p)/(t_vec**p).sum()\n",
    "        return 1 - np.abs(s)**(1/p)\n",
    "    elif metric == 'OR':\n",
    "        s = (t_vec**p)@(d_vec**p)/(t_vec**p).sum()\n",
    "        return s**(1/p)\n",
    "    \n",
    "def consult(query, metric='euc'):\n",
    "    query = [stemmer.stem(w.lower()) for w in query]\n",
    "    for d in docs.keys():\n",
    "        s = sim(query, d, metric=metric)\n",
    "\n",
    "        yield s,d,brown.categories(d)[0]"
   ]
  },
  {
   "cell_type": "code",
   "execution_count": 26,
   "id": "c35190af",
   "metadata": {},
   "outputs": [
    {
     "name": "stdout",
     "output_type": "stream",
     "text": [
      "romance cp09 1.0423873017491312\n",
      "romance cp23 0.844900129397543\n",
      "romance cp29 0.7107829673468591\n",
      "romance cp05 0.7049112012711242\n",
      "romance cp21 0.688961489942748\n",
      "romance cp06 0.6710255895263777\n",
      "romance cp11 0.6230341469507286\n",
      "romance cp13 0.6176950074230535\n",
      "romance cp28 0.6140388949549522\n",
      "romance cp18 0.6099739706145907\n",
      "romance cp25 0.6006820061486522\n",
      "romance cp27 0.594508829386484\n",
      "romance cp01 0.5878964233966325\n",
      "romance cp08 0.5750029453673065\n",
      "romance cp03 0.5665511125776489\n",
      "romance cp04 0.5614830158071611\n",
      "romance cp12 0.542223905449284\n",
      "romance cp17 0.5413813423071231\n",
      "romance cp16 0.5367537568295199\n",
      "religion cd13 0.5343570912447138\n",
      "religion cd14 0.5244874601684975\n",
      "romance cp22 0.5218440166435289\n",
      "religion cd17 0.519485689896705\n",
      "romance cp20 0.5172849333818106\n",
      "romance cp14 0.5028286138526117\n",
      "religion cd05 0.5006736049058816\n",
      "romance cp26 0.4987882194848493\n",
      "romance cp10 0.4926803008752681\n",
      "romance cp07 0.48353092045446006\n",
      "romance cp15 0.4834425180455873\n",
      "romance cp19 0.47127739657829926\n",
      "romance cp02 0.4634269296816332\n",
      "religion cd07 0.4573959368813054\n",
      "religion cd15 0.45102728938075654\n",
      "religion cd01 0.3986703189540901\n",
      "religion cd08 0.38427221529074435\n",
      "romance cp24 0.3804557649251576\n",
      "religion cd11 0.3792075858459819\n",
      "religion cd10 0.37666254292353035\n",
      "religion cd12 0.36879546869752705\n",
      "religion cd16 0.36404346758857997\n",
      "religion cd02 0.3433954274107833\n",
      "religion cd03 0.3317038348495835\n",
      "religion cd09 0.3310065255376632\n",
      "religion cd04 0.3021237418617801\n",
      "religion cd06 0.294305802357795\n"
     ]
    }
   ],
   "source": [
    "results = consult(['dilemma'])\n",
    "for s, doc, topic in sorted(results, key=itemgetter(0), reverse=True):\n",
    "    print(topic, doc, s)"
   ]
  },
  {
   "cell_type": "markdown",
   "id": "24a0982d",
   "metadata": {},
   "source": [
    "    "
   ]
  }
 ],
 "metadata": {
  "kernelspec": {
   "display_name": "Python 3",
   "language": "python",
   "name": "python3"
  },
  "language_info": {
   "codemirror_mode": {
    "name": "ipython",
    "version": 3
   },
   "file_extension": ".py",
   "mimetype": "text/x-python",
   "name": "python",
   "nbconvert_exporter": "python",
   "pygments_lexer": "ipython3",
   "version": "3.8.8"
  }
 },
 "nbformat": 4,
 "nbformat_minor": 5
}
