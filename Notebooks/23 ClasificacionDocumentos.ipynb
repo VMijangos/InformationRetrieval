{
 "cells": [
  {
   "cell_type": "markdown",
   "id": "f05ad3e0",
   "metadata": {},
   "source": [
    "# Clasificación de documentos"
   ]
  },
  {
   "cell_type": "code",
   "execution_count": 1,
   "id": "2af8ca8a",
   "metadata": {},
   "outputs": [],
   "source": [
    "from nltk.corpus import brown\n",
    "from sklearn.feature_extraction.text import TfidfVectorizer\n",
    "from sklearn.model_selection import train_test_split\n",
    "from sklearn.naive_bayes import GaussianNB\n",
    "from sklearn.metrics import classification_report"
   ]
  },
  {
   "cell_type": "markdown",
   "id": "ed9f2b3c",
   "metadata": {},
   "source": [
    "### Vectorización de documentos"
   ]
  },
  {
   "cell_type": "code",
   "execution_count": 2,
   "id": "0e3ae6e4",
   "metadata": {},
   "outputs": [],
   "source": [
    "#Colección de trabajo\n",
    "ids = brown.fileids()\n",
    "collection = [' '.join(brown.words(d)) for d in ids]\n",
    "\n",
    "#Vectorización con TFIDF\n",
    "vectorizer = TfidfVectorizer(stop_words='english')\n",
    "X = vectorizer.fit_transform(collection)"
   ]
  },
  {
   "cell_type": "code",
   "execution_count": 3,
   "id": "ade460a8",
   "metadata": {},
   "outputs": [],
   "source": [
    "topics = [brown.categories(docID)[0] for docID in ids]\n",
    "\n",
    "x_train, x_test, y_train, y_test = train_test_split(X.todense(), topics, test_size=0.3)"
   ]
  },
  {
   "cell_type": "markdown",
   "id": "8be23b8d",
   "metadata": {},
   "source": [
    "### Algoritmo de clasificación"
   ]
  },
  {
   "cell_type": "code",
   "execution_count": 4,
   "id": "c2d47a61",
   "metadata": {},
   "outputs": [
    {
     "data": {
      "text/plain": [
       "GaussianNB()"
      ]
     },
     "execution_count": 4,
     "metadata": {},
     "output_type": "execute_result"
    }
   ],
   "source": [
    "classifier = GaussianNB()\n",
    "classifier.fit(x_train, y_train)"
   ]
  },
  {
   "cell_type": "code",
   "execution_count": 5,
   "id": "3c61bd6a",
   "metadata": {},
   "outputs": [],
   "source": [
    "y_pred = classifier.predict(x_test)"
   ]
  },
  {
   "cell_type": "code",
   "execution_count": 6,
   "id": "69f3f642",
   "metadata": {},
   "outputs": [
    {
     "name": "stdout",
     "output_type": "stream",
     "text": [
      "                 precision    recall  f1-score   support\n",
      "\n",
      "      adventure       0.20      1.00      0.33         2\n",
      " belles_lettres       0.61      0.30      0.41        46\n",
      "      editorial       0.00      0.00      0.00         4\n",
      "        fiction       0.10      0.33      0.15         3\n",
      "     government       0.00      0.00      0.00         1\n",
      "        hobbies       0.13      0.67      0.22         3\n",
      "          humor       0.00      0.00      0.00         1\n",
      "        learned       0.50      0.54      0.52        24\n",
      "           lore       0.43      0.11      0.17        28\n",
      "        mystery       0.00      0.00      0.00         5\n",
      "           news       0.77      0.34      0.48        29\n",
      "       religion       0.00      0.00      0.00         1\n",
      "        reviews       0.00      0.00      0.00         3\n",
      "        romance       0.00      0.00      0.00         0\n",
      "science_fiction       0.00      0.00      0.00         0\n",
      "\n",
      "       accuracy                           0.30       150\n",
      "      macro avg       0.18      0.22      0.15       150\n",
      "   weighted avg       0.50      0.30      0.34       150\n",
      "\n"
     ]
    },
    {
     "name": "stderr",
     "output_type": "stream",
     "text": [
      "/home/mijangos/.local/lib/python3.8/site-packages/sklearn/metrics/_classification.py:1221: UndefinedMetricWarning: Precision and F-score are ill-defined and being set to 0.0 in labels with no predicted samples. Use `zero_division` parameter to control this behavior.\n",
      "  _warn_prf(average, modifier, msg_start, len(result))\n",
      "/home/mijangos/.local/lib/python3.8/site-packages/sklearn/metrics/_classification.py:1221: UndefinedMetricWarning: Recall and F-score are ill-defined and being set to 0.0 in labels with no true samples. Use `zero_division` parameter to control this behavior.\n",
      "  _warn_prf(average, modifier, msg_start, len(result))\n"
     ]
    }
   ],
   "source": [
    "print(classification_report(y_pred, y_test))"
   ]
  },
  {
   "cell_type": "code",
   "execution_count": null,
   "id": "f820ee99",
   "metadata": {},
   "outputs": [],
   "source": []
  }
 ],
 "metadata": {
  "kernelspec": {
   "display_name": "Python 3",
   "language": "python",
   "name": "python3"
  },
  "language_info": {
   "codemirror_mode": {
    "name": "ipython",
    "version": 3
   },
   "file_extension": ".py",
   "mimetype": "text/x-python",
   "name": "python",
   "nbconvert_exporter": "python",
   "pygments_lexer": "ipython3",
   "version": "3.8.8"
  }
 },
 "nbformat": 4,
 "nbformat_minor": 5
}
