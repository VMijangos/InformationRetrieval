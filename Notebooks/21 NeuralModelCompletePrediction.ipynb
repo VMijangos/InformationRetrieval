{
 "cells": [
  {
   "cell_type": "markdown",
   "id": "e33fdd6e",
   "metadata": {},
   "source": [
    "# Aprendizaje de embeddings supervisados\n",
    "\n",
    "En las redes neuronales, los embeddings o representaciones vectoriales abstractas, son parte del aprendizaje de la red. Aquí presentamos una implementación de una red neuronal que estima los valores de relevancia entre un término y un documento, pero que además aprende las representaciones vectoriales de éstos."
   ]
  },
  {
   "cell_type": "code",
   "execution_count": 1,
   "id": "e6a3e1ff",
   "metadata": {},
   "outputs": [],
   "source": [
    "import nltk\n",
    "from nltk import word_tokenize\n",
    "from nltk.corpus import stopwords\n",
    "from nltk.corpus import brown\n",
    "from nltk.stem import SnowballStemmer\n",
    "from collections import defaultdict, Counter\n",
    "from itertools import chain\n",
    "from operator import itemgetter\n",
    "import numpy as np"
   ]
  },
  {
   "cell_type": "markdown",
   "id": "24476414",
   "metadata": {},
   "source": [
    "### Preparación de los datos\n",
    "\n",
    "Utilizamos el corpus Brown y pre-procesamos los datos aplicando una stopword, stemmer y pasando todo a minúsculas, así como eliminando caracteres no relevantes."
   ]
  },
  {
   "cell_type": "code",
   "execution_count": 2,
   "id": "a39edd29",
   "metadata": {},
   "outputs": [
    {
     "name": "stdout",
     "output_type": "stream",
     "text": [
      "dict_keys(['cp01', 'cp02', 'cp03', 'cp04', 'cp05', 'cd01', 'cd02', 'cd03', 'cd04', 'cd05'])\n"
     ]
    }
   ],
   "source": [
    "#Stopwords\n",
    "paro = stopwords.words('english')\n",
    "#Documentos de los tópicos considerados\n",
    "ids = brown.fileids(categories=['romance'])[:5] + brown.fileids(categories=['religion'])[:5]\n",
    "#Stemmer\n",
    "stemmer = SnowballStemmer('english')\n",
    "\n",
    "#Guarda las palabras\n",
    "BagOfWords = defaultdict(list)\n",
    "for i in ids:\n",
    "    #Genera las palabras de cada documento\n",
    "    words = brown.words(i)\n",
    "    for w in words:\n",
    "        #Aplica stopwords\n",
    "        if w in paro or w.isalpha() == False:\n",
    "            pass\n",
    "        else:\n",
    "            #Aplica stemmer y guarda\n",
    "            BagOfWords[i].append(stemmer.stem(w))\n",
    "\n",
    "print(BagOfWords.keys())"
   ]
  },
  {
   "cell_type": "markdown",
   "id": "c484d18e",
   "metadata": {},
   "source": [
    "Ahora creamos el conjunto de entrenamiento, el cual será un conjunto supervisado. Cada ejemplo de entrenamiento se conformará de tres elementos:\n",
    "\n",
    "$$(d_i, t_j, y_{i,j})$$\n",
    "\n",
    "$d_i$ (el documento) y $t_j$ (el término) serán la entrada de la red, mientras que $y_{i,j}$ será la salida de la red que es un valor de relevancia; en este caso tomamos como valor de relevancia la frecuencia."
   ]
  },
  {
   "cell_type": "code",
   "execution_count": 3,
   "id": "4ea99452",
   "metadata": {},
   "outputs": [
    {
     "name": "stdout",
     "output_type": "stream",
     "text": [
      "[(0, 0, 4), (0, 1, 2), (0, 2, 4), (0, 3, 1), (0, 4, 16), (0, 5, 15), (0, 6, 3), (0, 7, 9), (0, 8, 2), (0, 9, 1)]\n"
     ]
    }
   ],
   "source": [
    "#Frecuencia de términos\n",
    "freqs = Counter(list(chain(*BagOfWords.values())))\n",
    "#Índices para términos\n",
    "terms = {w:k for k,w in enumerate(freqs.keys())}\n",
    "#Índices para documentos\n",
    "docs = {d:l for l,d in enumerate(BagOfWords.keys())}\n",
    "\n",
    "#Crea el dataset de entrenamiento\n",
    "train_set = []\n",
    "for d, t_list in BagOfWords.items():\n",
    "    doc_frec = Counter(t_list)\n",
    "    for t, t_frec in doc_frec.items():\n",
    "        train_set.append((docs[d], terms[t], t_frec))\n",
    "        \n",
    "print(train_set[:10])"
   ]
  },
  {
   "cell_type": "markdown",
   "id": "43d4c54c",
   "metadata": {},
   "source": [
    "### Generación de la red\n",
    "\n",
    "Nuestra red tomará dos entradas, el documento $d_i$ y el término $t_j$, cada uno de estos elementos pasará por una capa de embedding. De tal forma que tendremos un vector representado al documento y otro representado al término. Estos vectores se concatenan y pasan por capas densas hasta obtener una salida que será la predicción de la relevancia."
   ]
  },
  {
   "cell_type": "code",
   "execution_count": 4,
   "id": "cbc5ebb9",
   "metadata": {},
   "outputs": [],
   "source": [
    "import torch\n",
    "import torch.nn as nn\n",
    "from tqdm import tqdm"
   ]
  },
  {
   "cell_type": "markdown",
   "id": "5803476f",
   "metadata": {},
   "source": [
    "Utilizamos pytorch para definir la red como una clase RIModel."
   ]
  },
  {
   "cell_type": "code",
   "execution_count": 6,
   "id": "3c0acf43",
   "metadata": {},
   "outputs": [],
   "source": [
    "#Número de documentos\n",
    "n_docs = len(docs)\n",
    "#Número de términos\n",
    "n_terms = len(terms)\n",
    "\n",
    "class RIModel(nn.Module):\n",
    "    \"\"\"\n",
    "    Clase para definir la arquitectura de la red.\n",
    "    \"\"\"\n",
    "    def __init__(self, emb_dims=128, h_dim=256):\n",
    "        super().__init__()\n",
    "        #dimensión de embeddings\n",
    "        self.emb_dims = emb_dims\n",
    "        #Embedding para documento\n",
    "        self.emb_docs = nn.Embedding(n_docs, emb_dims)\n",
    "        #Embedding para término\n",
    "        self.emb_terms = nn.Embedding(n_terms, emb_dims)\n",
    "        #Capas densas\n",
    "        self.ffw = nn.Sequential(nn.Linear(2*emb_dims, 2*h_dim), nn.Tanh(),\n",
    "                                 nn.Linear(2*h_dim, h_dim), nn.Tanh(),\n",
    "                                 nn.Linear(h_dim, 1))\n",
    "        \n",
    "    def forward(self,x_doc, x_term):\n",
    "        #Cálculo y concatenación de embeddings\n",
    "        embs_concat = torch.cat((self.emb_docs(x_doc), self.emb_terms(x_term)), axis=1)\n",
    "        #Aplicación de las capas densas\n",
    "        out = self.ffw(embs_concat)\n",
    "        \n",
    "        return out"
   ]
  },
  {
   "cell_type": "markdown",
   "id": "0ffef201",
   "metadata": {},
   "source": [
    "Ahora entrenamos la red con los datos de entrenamiento que hemos obtenido. Dado que queremos predecir valores reales, usamos el riesgo del error cuadrático. Usamos un optimizador Adam con rango de aprendizaje de 0.1 y corremos por 25 épocas."
   ]
  },
  {
   "cell_type": "code",
   "execution_count": 7,
   "id": "e8328ea5",
   "metadata": {},
   "outputs": [
    {
     "name": "stderr",
     "output_type": "stream",
     "text": [
      "100%|██████████| 25/25 [03:05<00:00,  7.44s/it]"
     ]
    },
    {
     "name": "stdout",
     "output_type": "stream",
     "text": [
      "CPU times: user 3min 5s, sys: 106 ms, total: 3min 5s\n",
      "Wall time: 3min 6s\n"
     ]
    },
    {
     "name": "stderr",
     "output_type": "stream",
     "text": [
      "\n"
     ]
    }
   ],
   "source": [
    "%%time\n",
    "#Definimos la red\n",
    "net = RIModel(emb_dims=128, h_dim=256)\n",
    "#Función de riesgo\n",
    "risk = nn.MSELoss()\n",
    "#Otpimizador\n",
    "optimizer = torch.optim.Adam(net.parameters(), lr=0.1)\n",
    "#Número de épocas\n",
    "epochs = 25\n",
    "for t in tqdm(range(epochs)):\n",
    "    for d, t, s in train_set:\n",
    "        #Creamos índices de documento y término en torch\n",
    "        x_doc, x_term = torch.tensor([d]), torch.tensor([t])\n",
    "        #Aplicamos la red\n",
    "        pred = net(x_doc, x_term)\n",
    "        #Damos formato a las salidas\n",
    "        y = torch.tensor(s).reshape(1,1)\n",
    "        y = y.to(torch.float32)\n",
    "        #Calculamos el riesto\n",
    "        loss = risk(pred, y)\n",
    "        #Optimizamos\n",
    "        optimizer.zero_grad()\n",
    "        loss.backward()\n",
    "        optimizer.step()"
   ]
  },
  {
   "cell_type": "markdown",
   "id": "dd4a7c88",
   "metadata": {},
   "source": [
    "### Sistema de consulta \n",
    "\n",
    "A partir de la red podemos obtener el sistema de consulta. Podemos aplicar la red de manera directa para obtener los valores de relevancia que esta predice."
   ]
  },
  {
   "cell_type": "code",
   "execution_count": 8,
   "id": "9deb9f1d",
   "metadata": {},
   "outputs": [],
   "source": [
    "net.eval()\n",
    "def consult(term):\n",
    "    #Índice del término\n",
    "    x_term = torch.tensor([terms[term]])\n",
    "    for doc in docs.keys():\n",
    "        #Índice para documentos en colección\n",
    "        x_doc = torch.tensor([docs[doc]])\n",
    "        \n",
    "        #Devuelve la red entre término y documento\n",
    "        yield ( doc, brown.categories(doc)[0], float(net(x_doc,x_term).detach()[0][0]) )"
   ]
  },
  {
   "cell_type": "markdown",
   "id": "e147d780",
   "metadata": {},
   "source": [
    "Podemos visualizar entonces el tipo de resultados que da en orden de relevancia."
   ]
  },
  {
   "cell_type": "code",
   "execution_count": 9,
   "id": "bc712397",
   "metadata": {},
   "outputs": [
    {
     "name": "stdout",
     "output_type": "stream",
     "text": [
      "('cp05', 'romance', 0.9988749027252197)\n",
      "('cd02', 'religion', 0.9988749027252197)\n",
      "('cd05', 'religion', 0.9988749027252197)\n",
      "('cp01', 'romance', 0.9741750955581665)\n",
      "('cp02', 'romance', 0.9741750955581665)\n",
      "('cp03', 'romance', 0.9741750955581665)\n",
      "('cp04', 'romance', 0.9741750955581665)\n",
      "('cd01', 'religion', 0.9741750955581665)\n",
      "('cd03', 'religion', 0.9741750955581665)\n",
      "('cd04', 'religion', 0.9741750955581665)\n"
     ]
    }
   ],
   "source": [
    "result = consult('love')\n",
    "\n",
    "for r in sorted(result, key=itemgetter(2), reverse=True):\n",
    "    print(r)"
   ]
  },
  {
   "cell_type": "markdown",
   "id": "ff2e57d9",
   "metadata": {},
   "source": [
    "### Uso de los embeddings\n",
    "\n",
    "Además de entrenar la red para predecir la relevancia, hemos generado embeddings para términos y documentos. Estos embeddings en tanto representaciones vectoriales se pueden utilizar para hacer consultas como si se tratara de un modelo de espacio vectorial."
   ]
  },
  {
   "cell_type": "code",
   "execution_count": 10,
   "id": "64c449cb",
   "metadata": {},
   "outputs": [],
   "source": [
    "#Obtención de los embeddings a partir de la red\n",
    "doc_embs = net.emb_docs.weight.detach().numpy()\n",
    "term_embs = net.emb_terms.weight.detach().numpy()\n",
    "\n",
    "def consult_embs(term):\n",
    "    \"\"\"\n",
    "    Función de consulta a partir de embeddings.\n",
    "    \"\"\"\n",
    "    #embedding de término\n",
    "    t_vec = term_embs[terms[term]]\n",
    "    \n",
    "    for doc in docs.keys():\n",
    "        #embeddings de documentos\n",
    "        d_vec = doc_embs[docs[doc]]\n",
    "        #Similitud coseno\n",
    "        s = np.abs(np.dot(t_vec, d_vec))/( np.linalg.norm(t_vec)*np.linalg.norm(d_vec) ) \n",
    "        \n",
    "        yield (doc, brown.categories(doc)[0], s)"
   ]
  },
  {
   "cell_type": "markdown",
   "id": "e010d6a2",
   "metadata": {},
   "source": [
    "Los resultados que se obtienen con estas consultas son los siguientes:"
   ]
  },
  {
   "cell_type": "code",
   "execution_count": 15,
   "id": "22380828",
   "metadata": {},
   "outputs": [
    {
     "name": "stdout",
     "output_type": "stream",
     "text": [
      "('cd05', 'religion', 0.9335665)\n",
      "('cp05', 'romance', 0.9017998)\n",
      "('cd02', 'religion', 0.90087825)\n",
      "('cd04', 'religion', 0.8960338)\n",
      "('cd01', 'religion', 0.8324496)\n",
      "('cp01', 'romance', 0.7515694)\n",
      "('cp03', 'romance', 0.6937143)\n",
      "('cd03', 'religion', 0.67838824)\n",
      "('cp04', 'romance', 0.52966213)\n",
      "('cp02', 'romance', 0.18644014)\n"
     ]
    }
   ],
   "source": [
    "result = consult_embs('god')\n",
    "\n",
    "for r in sorted(result, key=itemgetter(2), reverse=True):\n",
    "    print(r)"
   ]
  },
  {
   "cell_type": "markdown",
   "id": "3f53a065",
   "metadata": {},
   "source": [
    "Finalmente, podemos visualizar el cómo se comportan los embeddings en el espacio vectorial."
   ]
  },
  {
   "cell_type": "code",
   "execution_count": 12,
   "id": "e247ca16",
   "metadata": {},
   "outputs": [
    {
     "data": {
      "image/png": "[encoded data removed]",
      "text/plain": [
       "<Figure size 432x288 with 1 Axes>"
      ]
     },
     "metadata": {
      "needs_background": "light"
     },
     "output_type": "display_data"
    }
   ],
   "source": [
    "from sklearn.decomposition import PCA\n",
    "import matplotlib.pyplot as plt\n",
    "\n",
    "#Reducción de dimensionalidad\n",
    "X = np.concatenate((doc_embs, term_embs))\n",
    "red = PCA(n_components=2)\n",
    "X_red = red.fit_transform(X)\n",
    "\n",
    "#Función para visualizar los embeddings\n",
    "#Usa reducción de la dimensionalidad por PCA\n",
    "def plot(Z,ids, color='blue'):\n",
    "    r=0\n",
    "    plt.scatter(Z[:,0],Z[:,1], marker='o', c=color)\n",
    "    for label,x,y in zip(ids, Z[:,0], Z[:,1]):\n",
    "        plt.annotate(label, xy=(x,y), xytext=(-1,1), textcoords='offset points', ha='center', va='bottom')\n",
    "        r+=1\n",
    " \n",
    "#Visualización de embeddings\n",
    "plot(X_red[:10], docs.keys())\n",
    "plot(X_red[10:][[terms['god'], terms['spirit']]], ['god','love'], color='red')"
   ]
  },
  {
   "cell_type": "markdown",
   "id": "53090188",
   "metadata": {},
   "source": [
    "     "
   ]
  }
 ],
 "metadata": {
  "kernelspec": {
   "display_name": "Python 3",
   "language": "python",
   "name": "python3"
  },
  "language_info": {
   "codemirror_mode": {
    "name": "ipython",
    "version": 3
   },
   "file_extension": ".py",
   "mimetype": "text/x-python",
   "name": "python",
   "nbconvert_exporter": "python",
   "pygments_lexer": "ipython3",
   "version": "3.8.8"
  }
 },
 "nbformat": 4,
 "nbformat_minor": 5
}
