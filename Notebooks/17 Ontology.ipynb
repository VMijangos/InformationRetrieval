{
  "nbformat": 4,
  "nbformat_minor": 0,
  "metadata": {
    "colab": {
      "name": "17 Ontology.ipynb",
      "provenance": [],
      "collapsed_sections": []
    },
    "kernelspec": {
      "name": "python3",
      "display_name": "Python 3"
    },
    "language_info": {
      "name": "python"
    }
  },
  "cells": [
    {
      "cell_type": "markdown",
      "source": [
        "# Similitud en ontologías\n",
        "\n",
        "Una ontología es una representación gráfica del conocimiento que cuenta con conceptos, instancias y relaciones. Los términos (instancias) de una ontología se relacionan mediante relaciones léxicas, principalmente de hiperonimia e hiponimia.\n",
        "\n",
        "Aquí revisamos la ontología WordNet y cómo se puede usar ésta para calcular la similitud entre términos."
      ],
      "metadata": {
        "id": "UFUBP5z4tZqM"
      }
    },
    {
      "cell_type": "code",
      "execution_count": 1,
      "metadata": {
        "id": "DjwBTRhYDg9v"
      },
      "outputs": [],
      "source": [
        "import nltk\n",
        "from nltk.corpus import wordnet"
      ]
    },
    {
      "cell_type": "markdown",
      "source": [
        "### WordNet\n",
        "\n",
        "WorNet es una ontología de uso general que contiene términos en inglés, se puede consultar en <a>https://wordnet.princeton.edu/</a>. En este caso, usamos la biblioteca de NLTK para descargar la ontología."
      ],
      "metadata": {
        "id": "9cvL1q4_ukKS"
      }
    },
    {
      "cell_type": "code",
      "source": [
        "#Descargamos WordNet con NLTK\n",
        "nltk.download('wordnet')"
      ],
      "metadata": {
        "colab": {
          "base_uri": "https://localhost:8080/"
        },
        "id": "WbxY1CDuuBpG",
        "outputId": "c9d87647-41a0-4986-84c3-c46ebd86e6ee"
      },
      "execution_count": 2,
      "outputs": [
        {
          "output_type": "stream",
          "name": "stdout",
          "text": [
            "[nltk_data] Downloading package wordnet to /root/nltk_data...\n",
            "[nltk_data]   Unzipping corpora/wordnet.zip.\n"
          ]
        },
        {
          "output_type": "execute_result",
          "data": {
            "text/plain": [
              "True"
            ]
          },
          "metadata": {},
          "execution_count": 2
        }
      ]
    },
    {
      "cell_type": "markdown",
      "source": [
        "WordNet en NLTK tiene varias funciones interesantes que pueden consultarse en <a>https://www.nltk.org/howto/wordnet.html</a>. Algunas de las que usaremos son:\n",
        "\n",
        "* synset: se aplica a una cadena (str) para obtener la instancia dentro de la ontología. Las cadenas son del tipo 'cat.n.01' donde 'cat' es la palabra a buscar 'n' es una etiqueta POS (indica que 'cat' es un sustantivo 'n' o un verbo 'v' o adjetivo 'a', etc.); finalmente, se enumeran los homónimos, si dos palabras suenan igual pero refieren a entidades distintias se usa un indicador distinto ('01', '02', etc.)\n",
        "* name: Refiere al nombre dado al término de búsqueda como entrada del diccionario.\n",
        "* definition: Obtiene la definición de diccionario de la palabra.\n",
        "* hypernyms: Obtiene los hiperónimos de la palabra; es decir, los términos arriba de la palabra bajo la relación is_a.\n",
        "* hyponyms: Obtiene los hipónimos de la palabra; es decir, los términos abajo de la palabra bajo la relación is_a.\n",
        "* antonyms: Obtiene los antónimos de un lema."
      ],
      "metadata": {
        "id": "nxrw8hFxvQag"
      }
    },
    {
      "cell_type": "code",
      "source": [
        "#Buscamos la palabra 'cat' sustantivo 'n'\n",
        "cat = wordnet.synset('cat.n.01')\n",
        "#Imprimimos el nombre y la definición\n",
        "print('{}. Definición: {}\\n'.format(cat.name(), cat.definition()))\n",
        "#Imprimimos los hiperónimos y los hipónimos\n",
        "print('Hiperónimos: ',[hyper.name() for hyper in cat.hypernyms()])\n",
        "print('Hipónimos: ',[hypo.name() for hypo in cat.hyponyms()])\n",
        "\n",
        "#Para consultar los antónimos, necesitamos\n",
        "#aplicar la función antonyms() a los lemmas\n",
        "good = wordnet.synset('good.a.01')\n",
        "print('Antónimos de {}: {}'.format(good.name(), good.lemmas()[0].antonyms()))"
      ],
      "metadata": {
        "colab": {
          "base_uri": "https://localhost:8080/"
        },
        "id": "05rT3uWAv6JL",
        "outputId": "93e26056-a9dc-4213-e5e3-d7fd32d800e5"
      },
      "execution_count": 3,
      "outputs": [
        {
          "output_type": "stream",
          "name": "stdout",
          "text": [
            "cat.n.01. Definición: feline mammal usually having thick soft fur and no ability to roar: domestic cats; wildcats\n",
            "\n",
            "Hiperónimos:  ['feline.n.01']\n",
            "Hipónimos:  ['domestic_cat.n.01', 'wildcat.n.03']\n",
            "Antónimos de good.a.01: [Lemma('bad.a.01.bad')]\n"
          ]
        }
      ]
    },
    {
      "cell_type": "markdown",
      "source": [
        "## Cálculo de la similitud\n",
        "\n",
        "Para calcular la similitud definiremos una función que obtiene los términos que forman el camino desde la raíz de la ontología hasta el término actual de la consulta."
      ],
      "metadata": {
        "id": "wbLBBaS5zB-e"
      }
    },
    {
      "cell_type": "code",
      "source": [
        "def get_path(w_in, root='entity.n.01'):\n",
        "  \"\"\"\n",
        "  Obtiene el camino que va de la raíz de la ontología (término más general)\n",
        "  hasta el término búscado.\n",
        "\n",
        "  Arguments\n",
        "  ---------\n",
        "  w_in : str\n",
        "    Término a consultar\n",
        "  root : str\n",
        "    Término raíz, puede variar según la POS\n",
        "\n",
        "  Returns\n",
        "  -------\n",
        "  path : list\n",
        "    Lista de hiperónimos que van desde la raíz hasta el término\n",
        "  \"\"\"\n",
        "  #Obtiene en synset\n",
        "  w =  wordnet.synset(w_in)\n",
        "  #Guarda el camino\n",
        "  path = []\n",
        "  #El término raíz es entity.n.01 en sustantivos\n",
        "  while w.name() != root:\n",
        "    #Genera los hiperónimos\n",
        "    hyp_w = w.hypernyms()[0].name()\n",
        "    w = w.hypernyms()[0]\n",
        "    #Guarda el camino de hiperónimos\n",
        "    path.append(hyp_w)\n",
        "\n",
        "  return path[::-1] + [w_in]\n",
        "\n",
        "print(get_path('domestic_cat.n.01'))"
      ],
      "metadata": {
        "colab": {
          "base_uri": "https://localhost:8080/"
        },
        "id": "SXBPkh2cPj7m",
        "outputId": "958cf4fc-1efe-4769-e392-aa1181127a5b"
      },
      "execution_count": 4,
      "outputs": [
        {
          "output_type": "stream",
          "name": "stdout",
          "text": [
            "['entity.n.01', 'physical_entity.n.01', 'object.n.01', 'whole.n.02', 'living_thing.n.01', 'organism.n.01', 'animal.n.01', 'chordate.n.01', 'vertebrate.n.01', 'mammal.n.01', 'placental.n.01', 'carnivore.n.01', 'feline.n.01', 'cat.n.01', 'domestic_cat.n.01']\n"
          ]
        }
      ]
    },
    {
      "cell_type": "markdown",
      "source": [
        "Podemos tratar de visualizar como se ven los caminos entre dos términos, ya que la similitud se calculará en base en esto."
      ],
      "metadata": {
        "id": "edDNfnZy0Bzd"
      }
    },
    {
      "cell_type": "code",
      "source": [
        "def onto_path(w1, w2):\n",
        "  \"\"\"\n",
        "  Visualiza el camino entre dos térmninos, viendo los términos en común y los disjuntos.\n",
        "\n",
        "  Arguments\n",
        "  ---------\n",
        "  w1, w2 : str\n",
        "    Términos de los que se desea visualizar los caminos.\n",
        "  \"\"\"\n",
        "  #Obtiene los caminos de los synsets\n",
        "  path1, path2 = get_path(w1), get_path(w2)\n",
        "  #El camino más corto\n",
        "  l = min(len(path1), len(path2))\n",
        "  \n",
        "  for i in range(l):\n",
        "    #Imprime los nodos en común\n",
        "    if path1[i] == path2[i]:\n",
        "      print('\\t{}'.format(path1[i]))\n",
        "    #Imprime los nodos diferentes\n",
        "    else:\n",
        "      print('{} \\t\\t {}'.format(path1[i], path2[i]))\n",
        "\n",
        "  #Si un camino es más largo imprime los faltantes\n",
        "  if len(path1) > len(path2):\n",
        "    for i in range(l, len(path1)):\n",
        "      print(path1[i])\n",
        "  elif len(path1) < len(path2):\n",
        "    for i in range(l, len(path2)):\n",
        "      print('\\t \\t\\t {}'.format(path2[i]))\n",
        "  else:\n",
        "    pass\n",
        "\n",
        "#Visualizamos la ontología para cat y dog\n",
        "onto_path('cat.n.01', 'dog.n.01')"
      ],
      "metadata": {
        "colab": {
          "base_uri": "https://localhost:8080/"
        },
        "id": "o22D0AcYPpkG",
        "outputId": "06624ca8-8bb1-474f-b7b0-3ab7b649a0e1"
      },
      "execution_count": 5,
      "outputs": [
        {
          "output_type": "stream",
          "name": "stdout",
          "text": [
            "\tentity.n.01\n",
            "\tphysical_entity.n.01\n",
            "\tobject.n.01\n",
            "\twhole.n.02\n",
            "\tliving_thing.n.01\n",
            "\torganism.n.01\n",
            "\tanimal.n.01\n",
            "\tchordate.n.01\n",
            "\tvertebrate.n.01\n",
            "\tmammal.n.01\n",
            "\tplacental.n.01\n",
            "\tcarnivore.n.01\n",
            "feline.n.01 \t\t canine.n.02\n",
            "cat.n.01 \t\t dog.n.01\n"
          ]
        }
      ]
    },
    {
      "cell_type": "code",
      "source": [
        "#Visualizamos la ontología para car y bus\n",
        "onto_path('car.n.01', 'bus.n.01')"
      ],
      "metadata": {
        "colab": {
          "base_uri": "https://localhost:8080/"
        },
        "id": "WS5fXsqPQgu1",
        "outputId": "6a05503a-7477-473a-9481-233f2f975977"
      },
      "execution_count": 6,
      "outputs": [
        {
          "output_type": "stream",
          "name": "stdout",
          "text": [
            "\tentity.n.01\n",
            "\tphysical_entity.n.01\n",
            "\tobject.n.01\n",
            "\twhole.n.02\n",
            "\tartifact.n.01\n",
            "\tinstrumentality.n.03\n",
            "container.n.01 \t\t conveyance.n.03\n",
            "wheeled_vehicle.n.01 \t\t public_transport.n.01\n",
            "self-propelled_vehicle.n.01 \t\t bus.n.01\n",
            "motor_vehicle.n.01\n",
            "car.n.01\n"
          ]
        }
      ]
    },
    {
      "cell_type": "markdown",
      "source": [
        "Para calcular la similitud entre dos términos de la ontología, $w_1$ y $w_2$,  utilizamos la función:\n",
        "\n",
        "$$sim(w_1, w_2) = 2\\frac{common(w_1,w_2)}{depth(w1) + depth(w2)}$$\n",
        "\n",
        "Donde $common(w_1, w_2)$ es el número de nodos/hiperónimos comúnes entre los términos, esto es: $$common(w_1, w_2) = |\\{w : w_1 \\text{ is_a } w, w_2 \\text{ is_a } w\\}|$$\n",
        "\n",
        "Y $depth(w)$ es la profundidad del término en la ontología, es decir: $$depth(w) = |path(w)|$$"
      ],
      "metadata": {
        "id": "dnVT5aPy1OQ6"
      }
    },
    {
      "cell_type": "code",
      "source": [
        "def similarity(w1, w2):\n",
        "  \"\"\"\n",
        "  Cálculo de la similitud entre dos términos a partir de la ontología.\n",
        "\n",
        "  Arguments\n",
        "  ---------\n",
        "  w1, w2 : str\n",
        "    Términos de los que se obtendrá la similitud\n",
        "\n",
        "  Returns\n",
        "  -------\n",
        "  similarity : float\n",
        "    Medida que indica la similitud entre ambos términos.\n",
        "  \"\"\"\n",
        "  #Obtiene los caminos\n",
        "  path1, path2 = get_path(w1), get_path(w2)\n",
        "  #Calcula la profundidad de cada término\n",
        "  depth_s1, depth_s2 = len(path1), len(path2)\n",
        "  #Calcula los nodos en común\n",
        "  common = len(set(path1).intersection(set(path2)))\n",
        "  #Computa la similitud\n",
        "  sim = 2*common/(depth_s1 + depth_s2)\n",
        "\n",
        "  return sim"
      ],
      "metadata": {
        "id": "rjLA3sswDr1H"
      },
      "execution_count": 7,
      "outputs": []
    },
    {
      "cell_type": "code",
      "source": [
        "#similitud para bus y car\n",
        "print(similarity('bus.n.01', 'car.n.01'))\n",
        "#Similitud para cat y dog\n",
        "print(similarity('cat.n.01', 'dog.n.01'))"
      ],
      "metadata": {
        "colab": {
          "base_uri": "https://localhost:8080/"
        },
        "id": "YsM8DOz01Aap",
        "outputId": "6794ac8c-534c-4d43-bac5-16633bab09e1"
      },
      "execution_count": 8,
      "outputs": [
        {
          "output_type": "stream",
          "name": "stdout",
          "text": [
            "0.6\n",
            "0.8571428571428571\n"
          ]
        }
      ]
    }
  ]
}